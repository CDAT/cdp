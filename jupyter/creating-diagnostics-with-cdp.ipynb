{
 "cells": [
  {
   "cell_type": "markdown",
   "metadata": {},
   "source": [
    "# Creating a diagnostics package with CDP"
   ]
  },
  {
   "cell_type": "markdown",
   "metadata": {},
   "source": [
    "In this notebook, we'll cover the steps needed to create a diagnostics package using the Community Diagnostics Package (CDP) via an example diagnostic package. For a basic diagnostics package, we'll cover how to:\n",
    "* create metrics\n",
    "* use them in your main script\n",
    "\n",
    "Additional points covered will include:\n",
    "* adding paramaters to your script\n",
    "* adding command line functionality for the parameters\n",
    "* optionally adding a viewer"
   ]
  },
  {
   "cell_type": "markdown",
   "metadata": {},
   "source": [
    "## Overview of CDP"
   ]
  },
  {
   "cell_type": "markdown",
   "metadata": {},
   "source": [
    "Add some overview?"
   ]
  },
  {
   "cell_type": "markdown",
   "metadata": {},
   "source": [
    "## Creating metrics"
   ]
  },
  {
   "cell_type": "markdown",
   "metadata": {},
   "source": [
    "In your project directory, create a folder that will contain all of your metrics. In our example, we'll use a folder titled `my_metrics`.\n",
    "\n",
    "Our diagnostics will have two metrics `add` and `sub`, which will add and subtract two number respectively. Each metric must have a function called `compute()` and inherit from `CDPMetric`. Below is boilerplate code for creating a metric:"
   ]
  },
  {
   "cell_type": "code",
   "execution_count": null,
   "metadata": {
    "collapsed": true
   },
   "outputs": [],
   "source": [
    "from cdp.cdp_metric import CDPMetric\n",
    "\n",
    "class MyMetric(CDPMetric):\n",
    "    def compute():\n",
    "        # put your code here"
   ]
  },
  {
   "cell_type": "markdown",
   "metadata": {},
   "source": [
    "Create two files, `add.py` and `sub.py` in the `my_metrics` folder. Below is the actual code for the metrics:"
   ]
  },
  {
   "cell_type": "code",
   "execution_count": null,
   "metadata": {
    "collapsed": true
   },
   "outputs": [],
   "source": [
    "# add.py\n",
    "from cdp.cdp_metric import CDPMetric\n",
    "\n",
    "class Add(CDPMetric):\n",
    "    def compute(num1, num2):\n",
    "        return num1 + num2"
   ]
  },
  {
   "cell_type": "code",
   "execution_count": null,
   "metadata": {
    "collapsed": true
   },
   "outputs": [],
   "source": [
    "# sub.py\n",
    "from cdp.cdp_metric import CDPMetric\n",
    "\n",
    "class Sub(CDPMetric):\n",
    "    def compute(num1, num2):\n",
    "        return num1 - num2"
   ]
  },
  {
   "cell_type": "markdown",
   "metadata": {},
   "source": [
    "So we can import these metrics in other scripts, we need to create an `__init__.py` file in the `my_metrics` folder. We can add the below code in `__init__.py` to make the syntax more clear:"
   ]
  },
  {
   "cell_type": "code",
   "execution_count": null,
   "metadata": {
    "collapsed": true
   },
   "outputs": [],
   "source": [
    "# my_metrics/__init__.py\n",
    "import add\n",
    "import sub\n",
    "\n",
    "add = add.Add()\n",
    "sub = sub.Sub()"
   ]
  },
  {
   "cell_type": "markdown",
   "metadata": {},
   "source": [
    "## Creating your main script"
   ]
  },
  {
   "cell_type": "markdown",
   "metadata": {},
   "source": [
    "Now all we need to do is import the metrics into your main script."
   ]
  },
  {
   "cell_type": "code",
   "execution_count": null,
   "metadata": {
    "collapsed": true
   },
   "outputs": [],
   "source": [
    "from my_metrics import add, sub\n",
    "\n",
    "print add(1, 1)\n",
    "print sub(1, 1)"
   ]
  },
  {
   "cell_type": "markdown",
   "metadata": {},
   "source": [
    "That's all that's needed to create a **very** basic diagnostics package using CDP. The next sections detail how to add more features such as parameters, commandline parsing, and adding in a viewer to view outputs."
   ]
  },
  {
   "cell_type": "markdown",
   "metadata": {},
   "source": [
    "## Adding support for parameter files"
   ]
  },
  {
   "cell_type": "markdown",
   "metadata": {},
   "source": [
    "Scientific software often consists of many variables, all of which might need to be changed for a given run. Software created with CDP allows for parameters to be handled in a more organized way. "
   ]
  }
 ],
 "metadata": {
  "kernelspec": {
   "display_name": "Python 2",
   "language": "python",
   "name": "python2"
  },
  "language_info": {
   "codemirror_mode": {
    "name": "ipython",
    "version": 2
   },
   "file_extension": ".py",
   "mimetype": "text/x-python",
   "name": "python",
   "nbconvert_exporter": "python",
   "pygments_lexer": "ipython2",
   "version": "2.7.12"
  }
 },
 "nbformat": 4,
 "nbformat_minor": 2
}
