{
 "cells": [
  {
   "cell_type": "markdown",
   "metadata": {
    "deletable": true,
    "editable": true
   },
   "source": [
    "# Creating a diagnostics package with CDP"
   ]
  },
  {
   "cell_type": "markdown",
   "metadata": {
    "deletable": true,
    "editable": true
   },
   "source": [
    "In this notebook, we'll cover the steps needed to create a diagnostics package using the Community Diagnostics Package (CDP) via an example diagnostic package. For a basic diagnostics package, we'll cover how to:\n",
    "* create metrics\n",
    "* use them in your main script\n",
    "\n",
    "Additional points covered will include:\n",
    "* adding paramaters to your script\n",
    "* adding command line functionality for the parameters\n",
    "* optionally adding a viewer"
   ]
  },
  {
   "cell_type": "markdown",
   "metadata": {
    "deletable": true,
    "editable": true
   },
   "source": [
    "## Overview of CDP"
   ]
  },
  {
   "cell_type": "markdown",
   "metadata": {
    "deletable": true,
    "editable": true
   },
   "source": [
    "Add some overview?"
   ]
  },
  {
   "cell_type": "markdown",
   "metadata": {
    "deletable": true,
    "editable": true
   },
   "source": [
    "## Creating metrics"
   ]
  },
  {
   "cell_type": "markdown",
   "metadata": {
    "deletable": true,
    "editable": true
   },
   "source": [
    "In your project directory, create a folder that will contain all of your metrics. In our example, we'll use a folder titled `my_metrics`.\n",
    "\n",
    "Our diagnostics will have two metrics `add` and `sub`, which will add and subtract two number respectively. Each metric must have a function called `compute()` and inherit from `CDPMetric`. Below is boilerplate code for creating a metric:"
   ]
  },
  {
   "cell_type": "code",
   "execution_count": null,
   "metadata": {
    "collapsed": true,
    "deletable": true,
    "editable": true
   },
   "outputs": [],
   "source": [
    "from cdp.cdp_metric import CDPMetric\n",
    "\n",
    "class MyMetric(CDPMetric):\n",
    "    def compute():\n",
    "        # put your code here"
   ]
  },
  {
   "cell_type": "markdown",
   "metadata": {
    "deletable": true,
    "editable": true
   },
   "source": [
    "Create two files, `add.py` and `sub.py` in the `my_metrics` folder. Below is the actual code for the metrics:"
   ]
  },
  {
   "cell_type": "code",
   "execution_count": null,
   "metadata": {
    "collapsed": true,
    "deletable": true,
    "editable": true
   },
   "outputs": [],
   "source": [
    "# add.py\n",
    "from cdp.cdp_metric import CDPMetric\n",
    "\n",
    "class Add(CDPMetric):\n",
    "    def compute(num1, num2):\n",
    "        return num1 + num2"
   ]
  },
  {
   "cell_type": "code",
   "execution_count": null,
   "metadata": {
    "collapsed": true,
    "deletable": true,
    "editable": true
   },
   "outputs": [],
   "source": [
    "# sub.py\n",
    "from cdp.cdp_metric import CDPMetric\n",
    "\n",
    "class Sub(CDPMetric):\n",
    "    def compute(num1, num2):\n",
    "        return num1 - num2"
   ]
  },
  {
   "cell_type": "markdown",
   "metadata": {
    "deletable": true,
    "editable": true
   },
   "source": [
    "So we can import these metrics in other scripts, we need to create an `__init__.py` file in the `my_metrics` folder. We can add the below code in `__init__.py` to make the syntax more clear:"
   ]
  },
  {
   "cell_type": "code",
   "execution_count": null,
   "metadata": {
    "collapsed": true,
    "deletable": true,
    "editable": true
   },
   "outputs": [],
   "source": [
    "# my_metrics/__init__.py\n",
    "import add\n",
    "import sub\n",
    "\n",
    "add = add.Add()\n",
    "sub = sub.Sub()"
   ]
  },
  {
   "cell_type": "markdown",
   "metadata": {
    "deletable": true,
    "editable": true
   },
   "source": [
    "## Creating your main script"
   ]
  },
  {
   "cell_type": "markdown",
   "metadata": {
    "deletable": true,
    "editable": true
   },
   "source": [
    "Now all we need to do is import the metrics into your main script, which we'll call `driver.py`."
   ]
  },
  {
   "cell_type": "code",
   "execution_count": null,
   "metadata": {
    "collapsed": true,
    "deletable": true,
    "editable": true
   },
   "outputs": [],
   "source": [
    "# driver.py\n",
    "from my_metrics import add, sub\n",
    "\n",
    "print add(1, 1)\n",
    "print sub(1, 1)"
   ]
  },
  {
   "cell_type": "markdown",
   "metadata": {
    "deletable": true,
    "editable": true
   },
   "source": [
    "That's all that's needed to create a **very** basic diagnostics package using CDP. The next sections detail how to add more features such as parameters, commandline parsing, and adding in a viewer to view outputs."
   ]
  },
  {
   "cell_type": "markdown",
   "metadata": {
    "deletable": true,
    "editable": true
   },
   "source": [
    "## Adding support for parameters"
   ]
  },
  {
   "cell_type": "markdown",
   "metadata": {
    "deletable": true,
    "editable": true
   },
   "source": [
    "Scientific software often consists of many variables, all of which might need to be changed for a given run. Software created with CDP allows for parameters to be handled in an organized way. \n",
    "\n",
    "Parameters are classes which inherit from `CDPParameter`. Below is boilerplate code."
   ]
  },
  {
   "cell_type": "code",
   "execution_count": null,
   "metadata": {
    "collapsed": true,
    "deletable": true,
    "editable": true
   },
   "outputs": [],
   "source": [
    "from cdp.cdp_parameter import CDPParameter\n",
    "\n",
    "class MyParameter(CDPParameter):\n",
    "    def check_values():\n",
    "        # put your code here"
   ]
  },
  {
   "cell_type": "markdown",
   "metadata": {
    "deletable": true,
    "editable": true
   },
   "source": [
    "The `check_values()` function is called automatically when a parameter is created. It allows for certain checks to be ran for variables in the parameter. \n",
    "\n",
    "In our example, the parameter will have two variables `num1` and `num2` which will be needed to checked. Below is the code that checks that both numbers are integers."
   ]
  },
  {
   "cell_type": "code",
   "execution_count": null,
   "metadata": {
    "collapsed": true,
    "deletable": true,
    "editable": true
   },
   "outputs": [],
   "source": [
    "# my_parameter.py\n",
    "from cdp.cdp_parameter import CDPParameter\n",
    "\n",
    "class MyParameter(CDPParameter):\n",
    "    def __init__(self):\n",
    "        self.num1 = None\n",
    "        self.num2 = None\n",
    "        \n",
    "    def check_values(self):\n",
    "        if not isinstance(self.num1, int):\n",
    "            print('num1 needs to be an integer')\n",
    "            quit()\n",
    "        if not isinstance(self.num2, int):\n",
    "            print('num2 needs to be an integer')\n",
    "            quit()"
   ]
  },
  {
   "cell_type": "markdown",
   "metadata": {
    "deletable": true,
    "editable": true
   },
   "source": [
    "### Using the parameter in the main script"
   ]
  },
  {
   "cell_type": "markdown",
   "metadata": {
    "deletable": true,
    "editable": true
   },
   "source": [
    "Below is how one would use the parameter file in the main script."
   ]
  },
  {
   "cell_type": "code",
   "execution_count": null,
   "metadata": {
    "collapsed": true,
    "deletable": true,
    "editable": true
   },
   "outputs": [],
   "source": [
    "# driver.py\n",
    "from my_metrics import add, sub\n",
    "from my_parameter import MyParameter\n",
    "\n",
    "parameter = MyParameter()\n",
    "parameter.num1 = 1\n",
    "parameter.num2 = 1\n",
    "print add(parameter.num1, parameter.num2)\n",
    "print sub(parameter.num1, parameter.num2)\n",
    "\n",
    "# both lines below will be caught by check_values()\n",
    "parameter.num1 = 'one'\n",
    "parameter.num2 = 'two'"
   ]
  },
  {
   "cell_type": "markdown",
   "metadata": {
    "deletable": true,
    "editable": true
   },
   "source": [
    "## Adding command line parsing"
   ]
  },
  {
   "cell_type": "markdown",
   "metadata": {
    "deletable": true,
    "editable": true
   },
   "source": [
    "The above example of using parameters isn't the most useful. Adding command line parsing for parameters is a better solution and allows for running commands like this:\n",
    "\n",
    "`driver.py --num1 1 --num2 1`\n",
    "\n",
    "We can even run commands like this:\n",
    "\n",
    "`driver.py -p parameter_file.py`\n",
    "\n",
    "Where `parameter_file.py` is:"
   ]
  },
  {
   "cell_type": "code",
   "execution_count": null,
   "metadata": {
    "collapsed": true,
    "deletable": true,
    "editable": true
   },
   "outputs": [],
   "source": [
    "# parameter_file.py\n",
    "\n",
    "num1 = 1\n",
    "num2 = 1"
   ]
  },
  {
   "cell_type": "markdown",
   "metadata": {
    "deletable": true,
    "editable": true
   },
   "source": [
    "So to change the parameters, only the command line arguements (`--num1` and `--num2`) or `parameter_file.py` are needed to be changed instead of `driver.py`.\n",
    "\n",
    "To do so, we need to create a parser, which inherits from `CDPParser`. Below is boilerplate code for a parser."
   ]
  },
  {
   "cell_type": "code",
   "execution_count": null,
   "metadata": {
    "collapsed": true,
    "deletable": true,
    "editable": true
   },
   "outputs": [],
   "source": [
    "# my_parser.py\n",
    "from cdp.cdp_parser import CDPParser\n",
    "from my_parameter import MyParameter\n",
    "\n",
    "class MyParser(CDPParser):\n",
    "    def __init__(self, *args, **kwargs):\n",
    "        # creates parameters of type MyParameter\n",
    "        super(MyParser, self).__init__(MyParameter, *args, **kwargs)\n",
    "\n",
    "    def load_default_args(self):\n",
    "        # this has '-p' and '--parameter' reserved\n",
    "        super(MyParser, self).load_default_args()\n",
    "\n",
    "        # put your arguments below"
   ]
  },
  {
   "cell_type": "markdown",
   "metadata": {
    "deletable": true,
    "editable": true
   },
   "source": [
    "Below is the parser for this example project. Note that adding an argument to parser in CDP is analogous to how one would would [add arguments using argparse](https://docs.python.org/2.7/library/argparse.html#adding-arguments)."
   ]
  },
  {
   "cell_type": "code",
   "execution_count": null,
   "metadata": {
    "collapsed": true,
    "deletable": true,
    "editable": true
   },
   "outputs": [],
   "source": [
    "# my_parser.py\n",
    "from cdp.cdp_parser import CDPParser\n",
    "from my_parameter import MyParameter\n",
    "\n",
    "class MyParser(CDPParser):\n",
    "    def __init__(self, *args, **kwargs):\n",
    "        # creates parameters of type MyParameter\n",
    "        super(MyParser, self).__init__(MyParameter, *args, **kwargs)\n",
    "\n",
    "    def load_default_args(self):\n",
    "        # this has '-p' and '--parameter' reserved\n",
    "        super(MyParser, self).load_default_args()\n",
    "\n",
    "        self.add_argument(\n",
    "            '--num1',\n",
    "            type=int,\n",
    "            dest='num1',\n",
    "            help='First num',\n",
    "            required=False)\n",
    "\n",
    "        self.add_argument(\n",
    "            '--num2',\n",
    "            type=int,\n",
    "            dest='num2',\n",
    "            help='Second num',\n",
    "            required=False)"
   ]
  },
  {
   "cell_type": "markdown",
   "metadata": {
    "deletable": true,
    "editable": true
   },
   "source": [
    "### Editing the main script to use the parser"
   ]
  },
  {
   "cell_type": "markdown",
   "metadata": {
    "deletable": true,
    "editable": true
   },
   "source": [
    "All we need to do is import the MyParser class we just made and use it like so."
   ]
  },
  {
   "cell_type": "code",
   "execution_count": null,
   "metadata": {
    "collapsed": true,
    "deletable": true,
    "editable": true
   },
   "outputs": [],
   "source": [
    "# driver.py\n",
    "from my_metrics import add, sub\n",
    "from my_parser import MyParser\n",
    "\n",
    "parser = MyParser()\n",
    "parameter = parser.get_parameter()\n",
    "print add(parameter.num1, parameter.num2)\n",
    "print sub(parameter.num1, parameter.num2)"
   ]
  },
  {
   "cell_type": "markdown",
   "metadata": {
    "deletable": true,
    "editable": true
   },
   "source": [
    "Again, now we can run commands like:\n",
    "\n",
    "`driver.py --num1 1 --num2 2`\n",
    "\n",
    "`driver.py --num1 14 --num2 12`\n",
    "\n",
    "`driver.py -p parameter_file.py`"
   ]
  },
  {
   "cell_type": "markdown",
   "metadata": {
    "deletable": true,
    "editable": true
   },
   "source": [
    "## Adding in the viewer"
   ]
  },
  {
   "cell_type": "markdown",
   "metadata": {
    "deletable": true,
    "editable": true
   },
   "source": [
    "If you have scripts or output images that you want to visualize via a webpage, read the [Using the CDP Viewer](https://github.com/UV-CDAT/cdp/blob/master/jupyter/using-the-cdp-viewer.ipynb) guide."
   ]
  }
 ],
 "metadata": {
  "kernelspec": {
   "display_name": "Python 2",
   "language": "python",
   "name": "python2"
  },
  "language_info": {
   "codemirror_mode": {
    "name": "ipython",
    "version": 2
   },
   "file_extension": ".py",
   "mimetype": "text/x-python",
   "name": "python",
   "nbconvert_exporter": "python",
   "pygments_lexer": "ipython2",
   "version": "2.7.12"
  }
 },
 "nbformat": 4,
 "nbformat_minor": 2
}
